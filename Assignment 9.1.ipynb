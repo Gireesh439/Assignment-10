{
 "cells": [
  {
   "cell_type": "code",
   "execution_count": 14,
   "metadata": {},
   "outputs": [
    {
     "name": "stdout",
     "output_type": "stream",
     "text": [
      "[1, 2, 0, 1, 2, 3, 4, 0, 1, 2]\n",
      "--- Sums by Day ---\n",
      "Day_Of_Week\n",
      "Friday       27231\n",
      "Monday       23758\n",
      "Saturday     23794\n",
      "Sunday       24984\n",
      "Thursday     30918\n",
      "Tuesday      23729\n",
      "Wednesday    27475\n",
      "Name: A, dtype: int32\n",
      "- Monthly Average -\n",
      "Month_Of_Year\n",
      "April        462.37\n",
      "August       450.00\n",
      "December     571.13\n",
      "February     515.11\n",
      "January      531.65\n",
      "July         478.26\n",
      "June         521.40\n",
      "March        452.19\n",
      "May          446.52\n",
      "November     540.80\n",
      "October      522.81\n",
      "September    490.00\n",
      "Name: A, dtype: float64\n",
      "- The maximum value for the first tertile is -\n",
      "A                                998\n",
      "My_Dates         2015-02-24 00:00:00\n",
      "Day_Of_Week                  Tuesday\n",
      "Month_Of_Year               February\n",
      "Name: 54, dtype: object\n",
      "- The maximum value for the second tertile is -\n",
      "A                                986\n",
      "My_Dates         2015-08-27 00:00:00\n",
      "Day_Of_Week                 Thursday\n",
      "Month_Of_Year                 August\n",
      "Name: 238, dtype: object\n",
      "- The maximum value for the third tertile is -\n",
      "A                                995\n",
      "My_Dates         2015-11-05 00:00:00\n",
      "Day_Of_Week                 Thursday\n",
      "Month_Of_Year               November\n",
      "Name: 308, dtype: object\n"
     ]
    }
   ],
   "source": [
    "import pandas as pd\n",
    "import numpy as np\n",
    "\n",
    "df = pd.DataFrame({'X': [7, 2, 0, 3, 4, 2, 5, 0, 3, 4]})\n",
    "\n",
    "idx = df.index[df['X']].tolist()\n",
    "#1\n",
    "to_zero = [(idx[i::-1]+[0]).index(0) for i in range(len(idx))]\n",
    "\n",
    "print(to_zero)\n",
    "#2\n",
    "set_date_range = pd.date_range('20150101', periods=365)\n",
    "df = pd.DataFrame(np.random.randint(999,size=365),index=np.arange(365),columns=list('A'))\n",
    "df['My_Dates'] = pd.to_datetime(set_date_range)\n",
    "df['Day_Of_Week'] = df['My_Dates'].dt.weekday_name\n",
    "df['Month_Of_Year'] = df['My_Dates'].dt.month\n",
    "#3\n",
    "import calendar\n",
    "df['Month_Of_Year'] = df['Month_Of_Year'].apply(lambda x: calendar.month_name[x])\n",
    "days_of_week_sum=df.groupby('Day_Of_Week')['A'].sum()\n",
    "print(\"--- Sums by Day ---\")\n",
    "print(days_of_week_sum)\n",
    "#4\n",
    "month_of_year_avg=df.groupby('Month_Of_Year')['A'].mean().round(decimals=2)\n",
    "print(\"- Monthly Average -\")\n",
    "print(month_of_year_avg)\n",
    "#5\n",
    "single_string_subset=df[df.Month_Of_Year == 'January'] # -- that would create a new dataframe \n",
    "mask_out = df[(~df['Month_Of_Year'].str.contains(\"January\")) & (~df['Month_Of_Year'].str.contains(\"February\")) & (~df['Month_Of_Year'].str.contains(\"March\"))]\n",
    "Tertile_One = df[df['Month_Of_Year'].str.contains(\"January|February|March|April\")==True]\n",
    "Tertile_Two = df[df['Month_Of_Year'].str.contains(\"May|June|July|August\")==True]\n",
    "Tertile_Three = df[df['Month_Of_Year'].str.contains(\"September|October|November|December\")==True]\n",
    "print(\"- The maximum value for the first tertile is -\")\n",
    "print(Tertile_One.loc[Tertile_One['A'].idxmax()]) \n",
    "print(\"- The maximum value for the second tertile is -\")\n",
    "print(Tertile_Two.loc[Tertile_Two['A'].idxmax()])\n",
    "print(\"- The maximum value for the third tertile is -\")\n",
    "print(Tertile_Three.loc[Tertile_Three['A'].idxmax()])\n",
    "\n",
    "\n"
   ]
  },
  {
   "cell_type": "code",
   "execution_count": null,
   "metadata": {},
   "outputs": [],
   "source": []
  },
  {
   "cell_type": "code",
   "execution_count": null,
   "metadata": {},
   "outputs": [],
   "source": []
  },
  {
   "cell_type": "code",
   "execution_count": null,
   "metadata": {},
   "outputs": [],
   "source": []
  },
  {
   "cell_type": "code",
   "execution_count": null,
   "metadata": {},
   "outputs": [],
   "source": []
  },
  {
   "cell_type": "code",
   "execution_count": null,
   "metadata": {},
   "outputs": [],
   "source": []
  },
  {
   "cell_type": "code",
   "execution_count": null,
   "metadata": {},
   "outputs": [],
   "source": []
  },
  {
   "cell_type": "code",
   "execution_count": null,
   "metadata": {},
   "outputs": [],
   "source": []
  },
  {
   "cell_type": "code",
   "execution_count": null,
   "metadata": {},
   "outputs": [],
   "source": []
  }
 ],
 "metadata": {
  "kernelspec": {
   "display_name": "Python 3",
   "language": "python",
   "name": "python3"
  },
  "language_info": {
   "codemirror_mode": {
    "name": "ipython",
    "version": 3
   },
   "file_extension": ".py",
   "mimetype": "text/x-python",
   "name": "python",
   "nbconvert_exporter": "python",
   "pygments_lexer": "ipython3",
   "version": "3.6.4"
  }
 },
 "nbformat": 4,
 "nbformat_minor": 2
}
